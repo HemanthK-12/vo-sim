{
 "cells": [
  {
   "cell_type": "code",
   "execution_count": null,
   "metadata": {},
   "outputs": [],
   "source": [
    "import pybullet as p\n",
    "import pybullet_data\n",
    "import numpy as np\n",
    "import cv2\n",
    "import time\n",
    "\n",
    "physicsClient = p.connect(p.GUI)"
   ]
  },
  {
   "cell_type": "markdown",
   "metadata": {},
   "source": [
    "# Load the URDF model"
   ]
  },
  {
   "cell_type": "code",
   "execution_count": null,
   "metadata": {},
   "outputs": [],
   "source": [
    "quat = p.getQuaternionFromEuler([1.57, 0, 0])\n",
    "drone_quat = p.getQuaternionFromEuler([1.57, 0, 0])\n",
    "drone = p.loadURDF('./cf2/cf2.urdf', globalScaling=2, baseOrientation=drone_quat, basePosition=[0, 0, 2])\n",
    "forest = p.loadURDF(\"./forest/forest.urdf\", basePosition=[0, 0, 0], baseOrientation=quat, useFixedBase=True)\n",
    "texture_id = p.loadTexture(\"./forest/forest.png\")\n",
    "p.changeVisualShape(forest, -1, textureUniqueId=texture_id)"
   ]
  },
  {
   "cell_type": "markdown",
   "metadata": {},
   "source": [
    "# Camera setup"
   ]
  },
  {
   "cell_type": "code",
   "execution_count": null,
   "metadata": {},
   "outputs": [],
   "source": [
    "fov = 60  # Field of view in degrees\n",
    "aspect = 1  # Aspect ratio\n",
    "near = 0.001  # Near clipping plane\n",
    "far = 10  # Far clipping plane\n",
    "width, height = 1920, 1088  # Image size\n",
    "\n",
    "# Camera position and orientation relative to the drone (looking down)\n",
    "camera_position = [0, 0, -0.1]  # Slightly below the drone\n",
    "camera_target = [0, -1, 0]  # Pointing downward\n",
    "\n",
    "# Camera projection matrix\n",
    "projection_matrix = p.computeProjectionMatrixFOV(fov, aspect, near, far)"
   ]
  },
  {
   "cell_type": "markdown",
   "metadata": {},
   "source": [
    "# Simulate and capture video feed"
   ]
  },
  {
   "cell_type": "code",
   "execution_count": null,
   "metadata": {},
   "outputs": [],
   "source": [
    "frame_rate = 10  # Frames per second\n",
    "duration = 10  # Duration in seconds\n",
    "total_frames = frame_rate * duration\n",
    "\n",
    "# Initialize VideoWriter\n",
    "fourcc = cv2.VideoWriter_fourcc(*'XVID')\n",
    "out = cv2.VideoWriter('drone_camera_feed.avi', fourcc, frame_rate, (width, height))"
   ]
  },
  {
   "cell_type": "markdown",
   "metadata": {},
   "source": [
    "# Keyboard control setup"
   ]
  },
  {
   "cell_type": "code",
   "execution_count": null,
   "metadata": {},
   "outputs": [],
   "source": [
    "keys = {\n",
    "    'w': [0.1, 0, 0],\n",
    "    's': [-0.1, 0, 0],\n",
    "    'a': [0, -0.1, 0],\n",
    "    'd': [0, 0.1, 0],\n",
    "    'q': [0, 0, 0.1],\n",
    "    'e': [0, 0, -0.1]\n",
    "}"
   ]
  },
  {
   "cell_type": "markdown",
   "metadata": {},
   "source": [
    "# Main simulation loop"
   ]
  },
  {
   "cell_type": "code",
   "execution_count": null,
   "metadata": {},
   "outputs": [],
   "source": [
    "for i in range(total_frames):\n",
    "    # Get the drone's position and orientation\n",
    "    drone_position, drone_orientation = p.getBasePositionAndOrientation(drone)\n",
    "    \n",
    "    # Check for keyboard input\n",
    "    keys_pressed = p.getKeyboardEvents()\n",
    "    for key, movement in keys.items():\n",
    "        if ord(key) in keys_pressed and keys_pressed[ord(key)] & p.KEY_WAS_TRIGGERED:\n",
    "            drone_position = [drone_position[j] + movement[j] for j in range(3)]\n",
    "            p.resetBasePositionAndOrientation(drone, drone_position, drone_orientation)\n",
    "    \n",
    "    # Compute camera's view matrix (camera positioned below drone, looking downward)\n",
    "    view_matrix = p.computeViewMatrix(\n",
    "        cameraEyePosition=[drone_position[0] + camera_position[0],\n",
    "                           drone_position[1] + camera_position[1],\n",
    "                           drone_position[2] + camera_position[2]],\n",
    "        cameraTargetPosition=[drone_position[0] + camera_target[0],\n",
    "                              drone_position[1] + camera_target[1],\n",
    "                              drone_position[2] + camera_target[2]],\n",
    "        cameraUpVector=[1, 0, 0]  # Assuming the up direction is along the x-axis\n",
    "    )\n",
    "    \n",
    "    # Render the camera images\n",
    "    images = p.getCameraImage(width, height, view_matrix, projection_matrix)\n",
    "    \n",
    "    # Extract the RGB image\n",
    "    rgba_img = np.reshape(images[2], (height, width, 4))  # RGBA image\n",
    "    rgb_img = rgba_img[:, :, :3]  # Convert to RGB by ignoring the alpha channel\n",
    "    \n",
    "    # Convert RGB to BGR\n",
    "    bgr_img = cv2.cvtColor(rgb_img, cv2.COLOR_RGB2BGR)\n",
    "    \n",
    "    # Write the frame to the video file\n",
    "    out.write(bgr_img)\n",
    "    \n",
    "    # Add a small delay to control the simulation speed\n",
    "    time.sleep(1 / frame_rate)"
   ]
  },
  {
   "cell_type": "markdown",
   "metadata": {},
   "source": [
    "# Release the VideoWriter"
   ]
  },
  {
   "cell_type": "code",
   "execution_count": null,
   "metadata": {},
   "outputs": [],
   "source": [
    "out.release()"
   ]
  },
  {
   "cell_type": "markdown",
   "metadata": {},
   "source": [
    "# Cleanup"
   ]
  },
  {
   "cell_type": "code",
   "execution_count": null,
   "metadata": {},
   "outputs": [],
   "source": [
    "p.disconnect()"
   ]
  }
 ],
 "metadata": {
  "kernelspec": {
   "display_name": "Python 3",
   "language": "python",
   "name": "python3"
  },
  "language_info": {
   "codemirror_mode": {
    "name": "ipython",
    "version": 3
   },
   "file_extension": ".py",
   "mimetype": "text/x-python",
   "name": "python",
   "nbconvert_exporter": "python",
   "pygments_lexer": "ipython3",
   "version": "3.10.12"
  }
 },
 "nbformat": 4,
 "nbformat_minor": 4
}
